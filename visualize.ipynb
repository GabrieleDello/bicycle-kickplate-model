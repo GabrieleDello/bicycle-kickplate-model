{
 "cells": [
  {
   "cell_type": "code",
   "execution_count": null,
   "id": "b3c7bd15",
   "metadata": {},
   "outputs": [],
   "source": [
    "run simulate.py"
   ]
  },
  {
   "cell_type": "code",
   "execution_count": null,
   "id": "4dba99d2",
   "metadata": {},
   "outputs": [],
   "source": [
    "from pydy.viz import Sphere, Cylinder, VisualizationFrame, Scene"
   ]
  },
  {
   "cell_type": "code",
   "execution_count": null,
   "id": "43000ffc",
   "metadata": {},
   "outputs": [],
   "source": [
    "rear_wheel_circle = Cylinder(radius=p_vals[rr], length=0.01,\n",
    "                             color=\"green\", name='rear wheel')\n",
    "front_wheel_circle = Cylinder(radius=p_vals[rf], length=0.01,\n",
    "                              color=\"green\", name='front wheel')\n",
    "rear_wheel_vframe = VisualizationFrame(B, do, rear_wheel_circle)\n",
    "front_wheel_vframe = VisualizationFrame(E, fo, front_wheel_circle)"
   ]
  },
  {
   "cell_type": "code",
   "execution_count": null,
   "id": "4833b96c",
   "metadata": {},
   "outputs": [],
   "source": [
    "d1_cylinder = Cylinder(radius=0.02, length=p_vals[d1],\n",
    "                       color='black', name='rear frame d1')\n",
    "d2_cylinder = Cylinder(radius=0.02, length=p_vals[d2],\n",
    "                       color='black', name='front frame d2')\n",
    "d3_cylinder = Cylinder(radius=0.02, length=p_vals[d3],\n",
    "                       color='black', name='front frame d3')\n",
    "\n",
    "d1_frame = VisualizationFrame(C.orientnew('C_r', 'Axis', (sm.pi/2, C.z)),\n",
    "                              do.locatenew('d1_half', d1/2*C.x), d1_cylinder)\n",
    "d2_frame = VisualizationFrame(E.orientnew('E_r', 'Axis', (-sm.pi/2, E.x)),\n",
    "                              fo.locatenew('d2_half', -d3*E.x - d2/2*E.z), d2_cylinder)\n",
    "d3_frame = VisualizationFrame(E.orientnew('E_r', 'Axis', (sm.pi/2, E.z)),\n",
    "                              fo.locatenew('d3_half', -d3/2*E.x), d3_cylinder)"
   ]
  },
  {
   "cell_type": "code",
   "execution_count": null,
   "id": "1b8384dc",
   "metadata": {},
   "outputs": [],
   "source": [
    "co_sphere = Sphere(radius=0.05, color='blue', name='rear frame co')\n",
    "eo_sphere = Sphere(radius=0.05, color='blue', name='rear frame eo')\n",
    "co_frame = VisualizationFrame(C, co, co_sphere)\n",
    "eo_frame = VisualizationFrame(E, eo, eo_sphere)"
   ]
  },
  {
   "cell_type": "code",
   "execution_count": null,
   "id": "8cba69ea",
   "metadata": {},
   "outputs": [],
   "source": [
    "scene = Scene(N, o)\n",
    "scene.visualization_frames = [front_wheel_vframe, rear_wheel_vframe,\n",
    "                              d1_frame, d2_frame, d3_frame,\n",
    "                              co_frame, eo_frame]\n"
   ]
  },
  {
   "cell_type": "code",
   "execution_count": null,
   "id": "ed12f4e9",
   "metadata": {},
   "outputs": [],
   "source": [
    "scene.times = times\n",
    "scene.constants = p_vals\n",
    "scene.states_symbols = qs + us\n",
    "scene.states_trajectories = x_traj[:, 0:16]"
   ]
  },
  {
   "cell_type": "code",
   "execution_count": null,
   "id": "9d897ff1",
   "metadata": {},
   "outputs": [],
   "source": [
    "scene.display_jupyter(axes_arrow_length=20.0)"
   ]
  },
  {
   "cell_type": "code",
   "execution_count": null,
   "id": "6d6e7694",
   "metadata": {},
   "outputs": [],
   "source": []
  }
 ],
 "metadata": {
  "kernelspec": {
   "display_name": "Python 3 (ipykernel)",
   "language": "python",
   "name": "python3"
  },
  "language_info": {
   "codemirror_mode": {
    "name": "ipython",
    "version": 3
   },
   "file_extension": ".py",
   "mimetype": "text/x-python",
   "name": "python",
   "nbconvert_exporter": "python",
   "pygments_lexer": "ipython3",
   "version": "3.11.0"
  }
 },
 "nbformat": 4,
 "nbformat_minor": 5
}
